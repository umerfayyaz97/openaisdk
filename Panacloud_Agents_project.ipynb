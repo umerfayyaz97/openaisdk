{
  "nbformat": 4,
  "nbformat_minor": 0,
  "metadata": {
    "colab": {
      "provenance": [],
      "authorship_tag": "ABX9TyNSpuyIOkr3Uuhvy5cMrfcf",
      "include_colab_link": true
    },
    "kernelspec": {
      "name": "python3",
      "display_name": "Python 3"
    },
    "language_info": {
      "name": "python"
    }
  },
  "cells": [
    {
      "cell_type": "markdown",
      "metadata": {
        "id": "view-in-github",
        "colab_type": "text"
      },
      "source": [
        "<a href=\"https://colab.research.google.com/github/umerfayyaz97/openaisdk/blob/master/Panacloud_Agents_project.ipynb\" target=\"_parent\"><img src=\"https://colab.research.google.com/assets/colab-badge.svg\" alt=\"Open In Colab\"/></a>"
      ]
    },
    {
      "cell_type": "markdown",
      "source": [
        "#**Install Dependencies**"
      ],
      "metadata": {
        "id": "EXZgzshr4-YQ"
      }
    },
    {
      "cell_type": "code",
      "source": [
        "!pip install -q \"openai-agents[viz]\""
      ],
      "metadata": {
        "id": "0snbKsi1IrYK"
      },
      "execution_count": 1,
      "outputs": []
    },
    {
      "cell_type": "code",
      "source": [
        "!pip install -Uq openai-agents"
      ],
      "metadata": {
        "id": "A-PL5bkUBNIY"
      },
      "execution_count": 2,
      "outputs": []
    },
    {
      "cell_type": "markdown",
      "source": [
        "#**Imports**"
      ],
      "metadata": {
        "id": "KFnf2vpo5KNv"
      }
    },
    {
      "cell_type": "code",
      "source": [
        "import nest_asyncio\n",
        "import os\n",
        "\n",
        "from agents import Agent, Runner, AsyncOpenAI, OpenAIChatCompletionsModel, set_default_openai_api, set_default_openai_client, set_tracing_disabled, RunConfig, handoff\n",
        "from agents.extensions.visualization import draw_graph\n",
        "\n",
        "from google.colab import userdata\n",
        "nest_asyncio.apply()"
      ],
      "metadata": {
        "id": "rpVcBHtpBTG4"
      },
      "execution_count": 3,
      "outputs": []
    },
    {
      "cell_type": "markdown",
      "source": [
        "#**Importing keys and Setting Agents**"
      ],
      "metadata": {
        "id": "wGtrEerP5Si4"
      }
    },
    {
      "cell_type": "code",
      "source": [
        "gemini_api_key = userdata.get(\"GEMINI_API_KEY\")\n",
        "\n",
        "set_tracing_disabled(True)\n",
        "set_default_openai_api(\"chat_completions\")\n",
        "model = \"gemini-2.0-flash\"\n",
        "\n",
        "external_client = AsyncOpenAI(\n",
        "    api_key=gemini_api_key,\n",
        "    base_url=\"https://generativelanguage.googleapis.com/v1beta/openai/\",\n",
        ")\n",
        "\n",
        "set_default_openai_client(external_client)\n",
        "\n",
        "\n",
        "WebDev : Agent = Agent(\n",
        "    name= \"WebDev Agent\",\n",
        "    instructions=\"You are a web development agent, you answer web development related questions\",\n",
        "    model=model,\n",
        "    handoff_description=\"Web Develoment Expert\"\n",
        ")\n",
        "\n",
        "#Agent as tools\n",
        "MobileDev : Agent = Agent(\n",
        "    name= \"MobileDev Agent\",\n",
        "    instructions=\"You are a Mobile App Development agent, you answer Mobile App development related questions\",\n",
        "    model=model\n",
        "\n",
        ")\n",
        "\n",
        "#Agent as tools\n",
        "DevOps: Agent = Agent(\n",
        "    name= \"DevOps Agent\",\n",
        "    instructions=\"You are a DevOps agent, you answer DevOps related questions\",\n",
        "    model=model\n",
        ")\n",
        "\n",
        "OpenAIAgent : Agent = Agent(\n",
        "    name= \"OpenAI Agent\",\n",
        "    instructions=\"You are an OpenAI agent, you answer OpenAI related questions\",\n",
        "    model=model,\n",
        "    handoff_description=\"OpenAI Expert\"\n",
        ")\n",
        "Agentic_AI : Agent = Agent(\n",
        "    name= \"Agenti AI Agent\",\n",
        "    instructions=\"You are an Agentic AI agent, you answer Agentic AI Developmnent related questions. You can use tools to answer sepcialized queries for specific tools requests\",\n",
        "    model=model,\n",
        "    handoff_description=\"Agentic AI Expert\",\n",
        "    # handoffs=[DevOps, OpenAIAgent]\n",
        "    tools=[\n",
        "        DevOps.as_tool(\n",
        "            tool_name=\"DevOps_tool\",\n",
        "            tool_description=\"Answer user's questions regarding Devops\",\n",
        "        ),\n",
        "        OpenAIAgent.as_tool(\n",
        "            tool_name=\"OpenAIAgent_tool\",\n",
        "            tool_description=\"Answer User's questions regarding OpenAI Agents\",\n",
        "        ),\n",
        "    ],\n",
        ")\n",
        "\n",
        "def on_web_handoff(context):\n",
        "    print(\"Web Agent Called\")\n",
        "\n",
        "def on_mobile_handoff(context):\n",
        "    print(\"Mobile Dev Called\")\n",
        "\n",
        "def on_agentic_handoff(context):\n",
        "    print(\"Agentic AI Called\")\n",
        "\n",
        "\n",
        "Panacloud = Agent(name=\"Assistant\",\n",
        "                  instructions=\"\"\"\n",
        "    You are a routing agent that determines which specialized agent should handle the user's request based on the inquiry's content.\n",
        "    Analyze the inquiry and route it to the appropriate agent using the following rules:\n",
        "    - If the inquiry contains terms like 'web', 'API', 'HTML', 'CSS', 'JavaScript', 'backend', or 'frontend', route to the WebDev agent.\n",
        "    - If the inquiry contains terms like 'mobile', 'app', 'iOS', 'Android', 'Flutter', or 'React Native', route to the MobileDev agent.\n",
        "    - If the inquiry contains terms like 'agentic', 'AI agent', 'autonomous', or 'multi-agent', route to the Agentic_AI agent.\n",
        "    - If the inquiry is unclear, ask the user for clarification.\n",
        "    Only route to one agent. Do not trigger multiple agents.\n",
        "    \"\"\",\n",
        "                  model=model,\n",
        "                  handoffs=[handoff(WebDev,on_handoff=on_web_handoff),\n",
        "                            handoff(MobileDev,on_handoff=on_mobile_handoff),\n",
        "                            handoff(Agentic_AI,on_handoff=on_agentic_handoff),\n",
        "                                    ])\n",
        "\n",
        "\n",
        "\n",
        "\n"
      ],
      "metadata": {
        "id": "pvCp2AL1BZZ5"
      },
      "execution_count": 4,
      "outputs": []
    },
    {
      "cell_type": "markdown",
      "source": [
        "#**Running Agent**"
      ],
      "metadata": {
        "id": "eAJS_B2D5Yyf"
      }
    },
    {
      "cell_type": "code",
      "source": [
        "result = Runner.run_sync(Panacloud, f\"What is Docker in Devops and agentic AI\")\n",
        "print(result.final_output)"
      ],
      "metadata": {
        "colab": {
          "base_uri": "https://localhost:8080/"
        },
        "id": "p19C-NC62wu-",
        "outputId": "71b44738-8c58-43ba-d328-14d3e63ddc52"
      },
      "execution_count": 5,
      "outputs": [
        {
          "output_type": "stream",
          "name": "stdout",
          "text": [
            "Agentic AI Called\n",
            "I am an Agentic AI agent, I do not have the capacity to answer this question. I can transfer you to a more suitable agent. Would you like me to transfer you to the Devops AI agent?\n",
            "\n"
          ]
        }
      ]
    },
    {
      "cell_type": "markdown",
      "source": [
        "#**Visualizing Agents**"
      ],
      "metadata": {
        "id": "_YiMKwrm5bet"
      }
    },
    {
      "cell_type": "code",
      "source": [
        "draw_graph(Panacloud)"
      ],
      "metadata": {
        "colab": {
          "base_uri": "https://localhost:8080/",
          "height": 326
        },
        "id": "DNG3BdiUJJuT",
        "outputId": "c3279e82-1282-4398-8c4e-a31d303d3074"
      },
      "execution_count": 6,
      "outputs": [
        {
          "output_type": "execute_result",
          "data": {
            "image/svg+xml": "<?xml version=\"1.0\" encoding=\"UTF-8\" standalone=\"no\"?>\n<!DOCTYPE svg PUBLIC \"-//W3C//DTD SVG 1.1//EN\"\n \"http://www.w3.org/Graphics/SVG/1.1/DTD/svg11.dtd\">\n<!-- Generated by graphviz version 2.43.0 (0)\n -->\n<!-- Title: G Pages: 1 -->\n<svg width=\"381pt\" height=\"229pt\"\n viewBox=\"0.00 0.00 380.50 228.53\" xmlns=\"http://www.w3.org/2000/svg\" xmlns:xlink=\"http://www.w3.org/1999/xlink\">\n<g id=\"graph0\" class=\"graph\" transform=\"scale(1 1) rotate(0) translate(4 224.53)\">\n<title>G</title>\n<polygon fill=\"white\" stroke=\"transparent\" points=\"-4,4 -4,-224.53 376.5,-224.53 376.5,4 -4,4\"/>\n<!-- __start__ -->\n<g id=\"node1\" class=\"node\">\n<title>__start__</title>\n<ellipse fill=\"lightblue\" stroke=\"black\" cx=\"186\" cy=\"-204.26\" rx=\"51.74\" ry=\"16.03\"/>\n<text text-anchor=\"middle\" x=\"186\" y=\"-200.56\" font-family=\"Arial\" font-size=\"14.00\">__start__</text>\n</g>\n<!-- Assistant -->\n<g id=\"node3\" class=\"node\">\n<title>Assistant</title>\n<polygon fill=\"lightyellow\" stroke=\"black\" points=\"240,-152 132,-152 132,-94 240,-94 240,-152\"/>\n<text text-anchor=\"middle\" x=\"186\" y=\"-119.3\" font-family=\"Arial\" font-size=\"14.00\">Assistant</text>\n</g>\n<!-- __start__&#45;&gt;Assistant -->\n<g id=\"edge1\" class=\"edge\">\n<title>__start__&#45;&gt;Assistant</title>\n<path fill=\"none\" stroke=\"black\" stroke-width=\"1.5\" d=\"M186,-187.98C186,-180.59 186,-171.36 186,-162.23\"/>\n<polygon fill=\"black\" stroke=\"black\" stroke-width=\"1.5\" points=\"189.5,-162.07 186,-152.07 182.5,-162.07 189.5,-162.07\"/>\n</g>\n<!-- __end__ -->\n<g id=\"node2\" class=\"node\">\n<title>__end__</title>\n<ellipse fill=\"lightblue\" stroke=\"black\" cx=\"304\" cy=\"-204.26\" rx=\"48.58\" ry=\"16.03\"/>\n<text text-anchor=\"middle\" x=\"304\" y=\"-200.56\" font-family=\"Arial\" font-size=\"14.00\">__end__</text>\n</g>\n<!-- WebDev Agent -->\n<g id=\"node4\" class=\"node\">\n<title>WebDev Agent</title>\n<path fill=\"none\" stroke=\"black\" d=\"M96,-58C96,-58 12,-58 12,-58 6,-58 0,-52 0,-46 0,-46 0,-12 0,-12 0,-6 6,0 12,0 12,0 96,0 96,0 102,0 108,-6 108,-12 108,-12 108,-46 108,-46 108,-52 102,-58 96,-58\"/>\n<text text-anchor=\"middle\" x=\"54\" y=\"-25.3\" font-family=\"Arial\" font-size=\"14.00\">WebDev Agent</text>\n</g>\n<!-- Assistant&#45;&gt;WebDev Agent -->\n<g id=\"edge2\" class=\"edge\">\n<title>Assistant&#45;&gt;WebDev Agent</title>\n<path fill=\"none\" stroke=\"black\" stroke-width=\"1.5\" d=\"M145.68,-93.9C132.24,-84.53 117.12,-74 103.1,-64.22\"/>\n<polygon fill=\"black\" stroke=\"black\" stroke-width=\"1.5\" points=\"104.73,-61.09 94.53,-58.25 100.73,-66.84 104.73,-61.09\"/>\n</g>\n<!-- MobileDev Agent -->\n<g id=\"node5\" class=\"node\">\n<title>MobileDev Agent</title>\n<path fill=\"none\" stroke=\"black\" d=\"M233.5,-58C233.5,-58 138.5,-58 138.5,-58 132.5,-58 126.5,-52 126.5,-46 126.5,-46 126.5,-12 126.5,-12 126.5,-6 132.5,0 138.5,0 138.5,0 233.5,0 233.5,0 239.5,0 245.5,-6 245.5,-12 245.5,-12 245.5,-46 245.5,-46 245.5,-52 239.5,-58 233.5,-58\"/>\n<text text-anchor=\"middle\" x=\"186\" y=\"-25.3\" font-family=\"Arial\" font-size=\"14.00\">MobileDev Agent</text>\n</g>\n<!-- Assistant&#45;&gt;MobileDev Agent -->\n<g id=\"edge3\" class=\"edge\">\n<title>Assistant&#45;&gt;MobileDev Agent</title>\n<path fill=\"none\" stroke=\"black\" stroke-width=\"1.5\" d=\"M186,-93.9C186,-85.86 186,-76.95 186,-68.41\"/>\n<polygon fill=\"black\" stroke=\"black\" stroke-width=\"1.5\" points=\"189.5,-68.25 186,-58.25 182.5,-68.25 189.5,-68.25\"/>\n</g>\n<!-- Agenti AI Agent -->\n<g id=\"node6\" class=\"node\">\n<title>Agenti AI Agent</title>\n<path fill=\"none\" stroke=\"black\" d=\"M360.5,-58C360.5,-58 275.5,-58 275.5,-58 269.5,-58 263.5,-52 263.5,-46 263.5,-46 263.5,-12 263.5,-12 263.5,-6 269.5,0 275.5,0 275.5,0 360.5,0 360.5,0 366.5,0 372.5,-6 372.5,-12 372.5,-12 372.5,-46 372.5,-46 372.5,-52 366.5,-58 360.5,-58\"/>\n<text text-anchor=\"middle\" x=\"318\" y=\"-25.3\" font-family=\"Arial\" font-size=\"14.00\">Agenti AI Agent</text>\n</g>\n<!-- Assistant&#45;&gt;Agenti AI Agent -->\n<g id=\"edge4\" class=\"edge\">\n<title>Assistant&#45;&gt;Agenti AI Agent</title>\n<path fill=\"none\" stroke=\"black\" stroke-width=\"1.5\" d=\"M226.32,-93.9C239.76,-84.53 254.88,-74 268.9,-64.22\"/>\n<polygon fill=\"black\" stroke=\"black\" stroke-width=\"1.5\" points=\"271.27,-66.84 277.47,-58.25 267.27,-61.09 271.27,-66.84\"/>\n</g>\n</g>\n</svg>\n",
            "text/plain": [
              "<graphviz.sources.Source at 0x7c02255d0550>"
            ]
          },
          "metadata": {},
          "execution_count": 6
        }
      ]
    }
  ]
}